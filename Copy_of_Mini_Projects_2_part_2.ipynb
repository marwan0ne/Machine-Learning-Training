{
  "nbformat": 4,
  "nbformat_minor": 0,
  "metadata": {
    "colab": {
      "name": "Copy of Mini_Projects_2/ part 2.ipynb",
      "provenance": [],
      "toc_visible": true,
      "include_colab_link": true
    },
    "kernelspec": {
      "name": "python3",
      "display_name": "Python 3"
    }
  },
  "cells": [
    {
      "cell_type": "markdown",
      "metadata": {
        "id": "view-in-github",
        "colab_type": "text"
      },
      "source": [
        "<a href=\"https://colab.research.google.com/github/marwan0ne/Machine-Learning-Training/blob/main/Copy_of_Mini_Projects_2_part_2.ipynb\" target=\"_parent\"><img src=\"https://colab.research.google.com/assets/colab-badge.svg\" alt=\"Open In Colab\"/></a>"
      ]
    },
    {
      "cell_type": "markdown",
      "metadata": {
        "id": "c2sSEq3uSurn"
      },
      "source": [
        "# Files and Exceptions"
      ]
    },
    {
      "cell_type": "markdown",
      "metadata": {
        "id": "qw2XyRs-TWIF"
      },
      "source": [
        "**8. Sum of Numbers** <br>\n",
        "Assume that a file containing a series of integers is named numbers.txt and exists on the computer’s disk. Write a program that reads all of the numbers stored in the file and calculates their total.\n"
      ]
    },
    {
      "cell_type": "code",
      "metadata": {
        "id": "ppDJyL91fT0f"
      },
      "source": [
        "#if there is a file that called number.txt this could should run just fine \n",
        "def main():\n",
        "\n",
        "  file= open(' numbers.txt','r')\n",
        "  \n",
        "  total = 0\n",
        "  for line in file:\n",
        "    num = int(line)\n",
        "    total +=num\n",
        "\n",
        "  file.close()\n",
        "  print(\"The total of the number stored in these file =\"+str(total))\n",
        "main()\n",
        "  "
      ],
      "execution_count": null,
      "outputs": []
    },
    {
      "cell_type": "code",
      "metadata": {
        "id": "92EStR9KSu8N"
      },
      "source": [
        ""
      ],
      "execution_count": null,
      "outputs": []
    },
    {
      "cell_type": "code",
      "metadata": {
        "id": "B7GImG_lSu-u"
      },
      "source": [
        ""
      ],
      "execution_count": null,
      "outputs": []
    },
    {
      "cell_type": "markdown",
      "metadata": {
        "id": "gW0mWcdDVgK4"
      },
      "source": [
        "**9. Average of Numbers** <br>\n",
        "Assume that a file containing a series of integers is named numbers.txt and exists on the computer’s disk. Write a program that calculates the average of all the numbers stored in\n",
        "the file"
      ]
    },
    {
      "cell_type": "code",
      "metadata": {
        "id": "3-DZx-vnSvCe"
      },
      "source": [
        "#if there is a file that called number.txt this could should run just fine \n",
        "def main():\n",
        "\n",
        "  file= open(' numbers.txt','r')\n",
        "  average = 0\n",
        "  total = 0\n",
        "  for line in file:\n",
        "    num = int(line)\n",
        "    total +=num\n",
        "\n",
        "  file.close()\n",
        "  average = total/num \n",
        "  print(\"The average of the number stored in these file =\"+str(average))\n",
        "main()"
      ],
      "execution_count": null,
      "outputs": []
    },
    {
      "cell_type": "markdown",
      "metadata": {
        "id": "vjchCYETVwPx"
      },
      "source": [
        "**10. Random Number File Writer**<br>\n",
        "Write a program that writes a series of random numbers to a file. Each random number should be in the range of 1 \n",
        "through 500. The application should let the user specify how\n",
        "many random numbers the file will hold.\n"
      ]
    },
    {
      "cell_type": "code",
      "metadata": {
        "id": "DCyba_BZVxLF",
        "colab": {
          "base_uri": "https://localhost:8080/"
        },
        "outputId": "79c8b7ff-b47d-44f1-9d6e-93166419483e"
      },
      "source": [
        "import random\n",
        "def main():\n",
        "  #this line let the user specify how many number the file will hold\n",
        "  specify = int(input(\"How many random numbers due want in the file?\"))\n",
        "  #Open new file\n",
        "  \n",
        "  rand_file = open('rand.txt','w')\n",
        "  #Write the specified number of random numbers\n",
        "  for i in range(1,specify+1):\n",
        "    numR = random.randint(1,500)\n",
        "    rand_file.write(str(numR)+\"\\n\")\n",
        "  rand_file.close()\n",
        "  print(\"file had filled with numbers\")\n",
        "  \n",
        "\n",
        "main()\n",
        "\n"
      ],
      "execution_count": null,
      "outputs": [
        {
          "output_type": "stream",
          "text": [
            "How many random numbers due want in the file?88\n",
            "file had filled with numbers\n"
          ],
          "name": "stdout"
        }
      ]
    },
    {
      "cell_type": "code",
      "metadata": {
        "id": "uZ7CQJM0VxN5"
      },
      "source": [
        ""
      ],
      "execution_count": null,
      "outputs": []
    },
    {
      "cell_type": "markdown",
      "metadata": {
        "id": "p75ZKqbXWMdY"
      },
      "source": [
        "**11.  Exception Handing** <br>\n",
        "Modify the program that you wrote for Exercise 9 so it handles the following exceptions: <br>\n",
        "* It should handle any IOError exceptions that are raised when the file is opened and data\n",
        "is read from it. <br>\n",
        "* It should handle any ValueError exceptions that are raised when the items that are read from the file are converted to a number."
      ]
    },
    {
      "cell_type": "code",
      "metadata": {
        "id": "22SOHQbrVxRE",
        "colab": {
          "base_uri": "https://localhost:8080/"
        },
        "outputId": "51ea4c7e-3901-4dac-cd39-68f2536973e8"
      },
      "source": [
        "#I choose to write only except as it's the only way i know to catch all exceptions\n",
        "def main():\n",
        "  average = 0\n",
        "  total = 0\n",
        "  try:\n",
        "      file= open(' numbers.txt','r')\n",
        "   \n",
        "      for line in file:\n",
        "        num = int(line)\n",
        "        total +=num\n",
        "\n",
        "      file.close()\n",
        "      average = total/num \n",
        "      print(\"The average of the number stored in these file =\"+str(average))\n",
        "  except:\n",
        "    \n",
        "    if ValueError:\n",
        "      print(\"Please enter a valid input\")\n",
        "    if FileNotFoundError:\n",
        "      print(\"File not found\"+\"  \"+\"number.txt\")\n",
        "    else:\n",
        "      print(\"An Error occured\")\n",
        "main()\n",
        "\n",
        "\n"
      ],
      "execution_count": 3,
      "outputs": [
        {
          "output_type": "stream",
          "text": [
            "Please enter a valid input\n",
            "File not found  number.txt\n"
          ],
          "name": "stdout"
        }
      ]
    },
    {
      "cell_type": "code",
      "metadata": {
        "id": "3p0MENR_WrBV"
      },
      "source": [
        ""
      ],
      "execution_count": null,
      "outputs": []
    }
  ]
}